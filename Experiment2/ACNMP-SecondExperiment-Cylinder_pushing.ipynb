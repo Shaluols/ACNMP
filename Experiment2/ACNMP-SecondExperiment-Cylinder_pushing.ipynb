{
 "cells": [
  {
   "cell_type": "code",
   "execution_count": 2,
   "metadata": {},
   "outputs": [
    {
     "data": {
      "text/html": [
       "<style>.container { width:90% !important; }</style>"
      ],
      "text/plain": [
       "<IPython.core.display.HTML object>"
      ]
     },
     "metadata": {},
     "output_type": "display_data"
    }
   ],
   "source": [
    "from pyrep import PyRep\n",
    "from pyrep.objects.shape import Shape\n",
    "from pyrep.const import PrimitiveShape\n",
    "from pyrep.errors import ConfigurationPathError\n",
    "import time\n",
    "import numpy as np\n",
    "import math\n",
    "import matplotlib.pyplot as plt\n",
    "from scipy.interpolate import UnivariateSpline\n",
    "import os\n",
    "os.environ[\"CUDA_DEVICE_ORDER\"] = \"PCI_BUS_ID\"\n",
    "os.environ[\"CUDA_VISIBLE_DEVICES\"] = \"\"\n",
    "import tensorflow as tf\n",
    "import keras\n",
    "from keras.layers import Softmax,Input,TimeDistributed,Dense,Average,GlobalAveragePooling1D\n",
    "from keras.layers import Concatenate,Lambda,RepeatVector,Conv2D,ConvLSTM2D,MaxPooling2D,BatchNormalization,Flatten,Reshape,UpSampling2D\n",
    "from keras.models import Model, load_model\n",
    "from keras.optimizers import Adam\n",
    "from keras.utils import plot_model\n",
    "import numpy as np\n",
    "import matplotlib.pyplot as plt\n",
    "import math\n",
    "import time\n",
    "import random\n",
    "import pylab as pl\n",
    "from IPython import display\n",
    "from IPython.core.display import HTML\n",
    "from IPython.core.display import display as html_width\n",
    "import tensorflow_probability as tfp\n",
    "from tensorflow.keras.utils import Sequence\n",
    "import matplotlib.image as mpimg\n",
    "\n",
    "from keras.models import load_model\n",
    "html_width(HTML(\"<style>.container { width:90% !important; }</style>\"))"
   ]
  },
  {
   "cell_type": "markdown",
   "metadata": {},
   "source": [
    "#### The LfD part of the code is taken from https://github.com/rssCNMP/CNMP"
   ]
  },
  {
   "cell_type": "markdown",
   "metadata": {},
   "source": [
    "## Initializing scene"
   ]
  },
  {
   "cell_type": "code",
   "execution_count": 3,
   "metadata": {},
   "outputs": [],
   "source": [
    "from pyrep.robots.arms.arm import Arm\n",
    "\n",
    "class Trobot(Arm):\n",
    "\n",
    "    def __init__(self, count: int = 0):\n",
    "        super().__init__(count, 'Trobot', num_joints=3)"
   ]
  },
  {
   "cell_type": "code",
   "execution_count": 6,
   "metadata": {},
   "outputs": [],
   "source": [
    "\n",
    "pr = PyRep()\n",
    "# Launch the application with a scene file in headless mode\n",
    "pr.launch('table.ttt', headless=False) \n",
    "pr.start()  # Start the simulation\n",
    "\n",
    "# Do some stuff"
   ]
  },
  {
   "cell_type": "code",
   "execution_count": 7,
   "metadata": {},
   "outputs": [],
   "source": [
    "pr.start()"
   ]
  },
  {
   "cell_type": "code",
   "execution_count": 86,
   "metadata": {},
   "outputs": [],
   "source": [
    "#pr.shutdown()  # to shut down the scene"
   ]
  },
  {
   "cell_type": "code",
   "execution_count": 130,
   "metadata": {},
   "outputs": [],
   "source": [
    "pr.stop()   # to initialize the scene"
   ]
  },
  {
   "cell_type": "code",
   "execution_count": 8,
   "metadata": {},
   "outputs": [],
   "source": [
    "cnmp_traj=np.load('CNMP_pushing_solution.npy')"
   ]
  },
  {
   "cell_type": "code",
   "execution_count": 9,
   "metadata": {},
   "outputs": [
    {
     "name": "stdout",
     "output_type": "stream",
     "text": [
      "(300, 3)\n"
     ]
    }
   ],
   "source": [
    "print(np.shape(cnmp_traj))"
   ]
  },
  {
   "cell_type": "code",
   "execution_count": 10,
   "metadata": {},
   "outputs": [],
   "source": [
    "Threedof_starting_position = [-0.50009131,  2.42891255, -0.91733952]"
   ]
  },
  {
   "cell_type": "markdown",
   "metadata": {},
   "source": [
    "## Playing initial LfD solution "
   ]
  },
  {
   "cell_type": "code",
   "execution_count": 11,
   "metadata": {},
   "outputs": [],
   "source": [
    "agent_model = pr.import_model('Trobot3Dof.ttm')\n",
    "agent=Trobot()\n",
    "agent.set_joint_target_positions(Threedof_starting_position)\n",
    "for i in range(50):\n",
    "    pr.step()"
   ]
  },
  {
   "cell_type": "code",
   "execution_count": 12,
   "metadata": {},
   "outputs": [],
   "source": [
    "cylinder_object_position = [0.281, -0.0613, 0.125]\n",
    "end_goal_position = [-0.257, 0.238, 0.125]"
   ]
  },
  {
   "cell_type": "code",
   "execution_count": 13,
   "metadata": {},
   "outputs": [
    {
     "name": "stdout",
     "output_type": "stream",
     "text": [
      "[-0.5120585560798645, 2.4381632804870605, -0.9081024527549744]\n"
     ]
    }
   ],
   "source": [
    "target_object = Shape.create(type=PrimitiveShape.CYLINDER, \n",
    "                          color=[0,0,0], size=[0.05, 0.05, 0.05],\n",
    "                          position=cylinder_object_position)\n",
    "\n",
    "print(agent.get_joint_positions())\n",
    "goal_pos = Shape.create(type=PrimitiveShape.CYLINDER, \n",
    "                      color=[1,0,0], size=[0.06, 0.06, 0.005],\n",
    "                      position=end_goal_position,\n",
    "                           static=True, respondable=False)\n",
    "pr.step()"
   ]
  },
  {
   "cell_type": "code",
   "execution_count": 14,
   "metadata": {},
   "outputs": [],
   "source": [
    "pr.step()"
   ]
  },
  {
   "cell_type": "code",
   "execution_count": 15,
   "metadata": {},
   "outputs": [],
   "source": [
    "for i in range(300):\n",
    "    agent.set_joint_target_positions(cnmp_traj[i])\n",
    "    pr.step()\n",
    "    pr.step()\n",
    "    pr.step()\n",
    "    pr.step()\n",
    "    pr.step()\n",
    "    pr.step()"
   ]
  },
  {
   "cell_type": "code",
   "execution_count": 16,
   "metadata": {},
   "outputs": [],
   "source": [
    "target_object.remove()\n",
    "goal_pos.remove()\n",
    "agent_model.remove()\n",
    "pr.step()"
   ]
  },
  {
   "cell_type": "markdown",
   "metadata": {},
   "source": [
    "## Loading data for ACNMP\n",
    "\n",
    "* <b>parameters</b>: Task_parameters corresponding to goal positions.\n",
    "* <b>reward_true</b>: Recorded object trajectories during demonstrations\n",
    "\n",
    "* <b>y</b>: Joint trajectories for 10 skill\n",
    "\n",
    "* The last skill will be predicted in the code, for interpolation, places of skills should be swapped by uncommenting.\n"
   ]
  },
  {
   "cell_type": "code",
   "execution_count": 17,
   "metadata": {},
   "outputs": [
    {
     "name": "stdout",
     "output_type": "stream",
     "text": [
      "(10, 300, 3)\n",
      "(10, 300, 3)\n",
      "(10, 3)\n",
      "(10, 3)\n"
     ]
    },
    {
     "data": {
      "image/png": "[encoded data removed]",
      "text/plain": [
       "<Figure size 432x288 with 1 Axes>"
      ]
     },
     "metadata": {
      "needs_background": "light"
     },
     "output_type": "display_data"
    },
    {
     "data": {
      "image/png": "[encoded data removed]",
      "text/plain": [
       "<Figure size 432x288 with 1 Axes>"
      ]
     },
     "metadata": {
      "needs_background": "light"
     },
     "output_type": "display_data"
    },
    {
     "data": {
      "image/png": "[encoded data removed]",
      "text/plain": [
       "<Figure size 432x288 with 1 Axes>"
      ]
     },
     "metadata": {
      "needs_background": "light"
     },
     "output_type": "display_data"
    }
   ],
   "source": [
    "time_N = 300\n",
    "times = np.linspace(0.,1.,time_N)\n",
    "len_files=10\n",
    "class Demonstration:\n",
    "    def __init__(self):\n",
    "        self.target_position= []\n",
    "        self.object_position= []\n",
    "        self.obj_trajectory = []\n",
    "        self.joint_trajectory = []\n",
    "A=Demonstration()\n",
    "A.joint_trajectory=np.load('Threedofpushing_joint_trajectories.npy')\n",
    "A.obj_trajectory = np.load('Threedofpushing_obj_trajectories.npy')\n",
    "A.object_position = np.load ('Threedofpushing_object_position.npy')\n",
    "A.target_position = np.load('Threedofpushing_target_position.npy')\n",
    "\n",
    "print(np.shape(A.joint_trajectory))\n",
    "print(np.shape(A.obj_trajectory))\n",
    "print(np.shape(A.object_position))\n",
    "print(np.shape(A.target_position))\n",
    "\n",
    "parameters=np.zeros((10,2))\n",
    "parameters[:,0] = A.target_position[:,0]\n",
    "parameters[:,1] = A.target_position[:,1]\n",
    "\n",
    "reward_true = np.zeros((10,300,2))\n",
    "\n",
    "reward_true[:,:,0] = A.obj_trajectory[:,:,0]\n",
    "reward_true[:,:,1] = A.obj_trajectory[:,:,1]\n",
    "\n",
    "max_par=parameters.max()\n",
    "min_par=parameters.min()\n",
    "parameters=(parameters-min_par)/(max_par-min_par)+0.01\n",
    "\n",
    "y = np.zeros((len_files,time_N,3))\n",
    "\n",
    "y = A.joint_trajectory\n",
    "\n",
    "# Uncomment the following for interpolation example\n",
    "\n",
    "#ch_num = 7\n",
    "\n",
    "#y[[ch_num,9]] = y[[9,ch_num]]\n",
    "#parameters[[ch_num,9]] = parameters[[9,ch_num]]\n",
    "#reward_true[[ch_num,9]] = reward_true[[9,ch_num]]\n",
    "\n",
    "\n",
    "for xyz in range(3):\n",
    "    for i in range(len_files):\n",
    "        plt.plot(times,y[i,:,xyz])\n",
    "    plt.scatter(times[0],y[9,0,xyz])\n",
    "    plt.scatter(times[time_N-1],y[9,time_N-1,xyz])\n",
    "    plt.show()\n"
   ]
  },
  {
   "cell_type": "markdown",
   "metadata": {},
   "source": [
    "## Loading model inputs\n",
    "\n",
    "* <b>n_max</b>: Hyperparameter that decides to the maximum number of observations CNMP uses. In this experiment, it is set to 5.\n",
    "* <b>n</b>: Number of observations taken for one time step.\n",
    "\n",
    "* <b>p</b>: Number that specifies the taken expert demonstration.\n",
    "\n",
    "* <b>observation</b>: The input vector for CNMP network, which consists of n observations.\n",
    "\n",
    "* <b>target</b>: A random time point concatenated with task parameters used for the training\n",
    "\n",
    "* <b>Y</b>: The matrix that contains expert demonstrations.\n"
   ]
  },
  {
   "cell_type": "code",
   "execution_count": 18,
   "metadata": {},
   "outputs": [],
   "source": [
    "n_max = 5\n",
    "def get_train_sample():\n",
    "    observation = np.zeros((1,n_max,6))\n",
    "    observation_flag = np.zeros((1,1,n_max))\n",
    "    target = np.zeros((1,1,3))\n",
    "    p = random.randint(0, 8)\n",
    "    n = random.randint(1,n_max)\n",
    "    perm = np.random.permutation(time_N)\n",
    "    \n",
    "    for i in range(n):\n",
    "        observation[0,i] = [times[perm[i]],parameters[p,0],parameters[p,1],y[p,perm[i],0],y[p,perm[i],1],y[p,perm[i],2]]\n",
    "        observation_flag[0,0,i] = 1./n\n",
    "    target[0,0,0] = times[perm[n]]\n",
    "    target[0,0,1] = parameters[p,0]\n",
    "    target[0,0,2] = parameters[p,1]\n",
    "    return [observation,observation_flag,target], [[[y[p,perm[n],0],y[p,perm[n],1],y[p,perm[n],2],0.,0.,0.]]],p"
   ]
  },
  {
   "cell_type": "markdown",
   "metadata": {},
   "source": [
    "### custom_loss2():\n",
    "* The policy gradient loss where a Gaussian distribution is used for action values ."
   ]
  },
  {
   "cell_type": "code",
   "execution_count": 19,
   "metadata": {},
   "outputs": [],
   "source": [
    "import keras.backend as K\n",
    "def custom_loss2(taken, predicted):\n",
    "    predicted_action_mean, predicted_action_sigma = tf.split(predicted, 2, axis=-1)\n",
    "    taken_action, q_value =tf.split(taken,2,axis=-1)\n",
    "\n",
    "    square_loss=tf.math.square(taken_action-predicted_action_mean)\n",
    "    loss=(1./4.)*tf.math.multiply(square_loss,q_value)\n",
    "    \n",
    "    return K.mean(loss)"
   ]
  },
  {
   "cell_type": "markdown",
   "metadata": {},
   "source": [
    "## The reinforcement learning model:\n",
    "\n",
    "* Same as LfD network\n"
   ]
  },
  {
   "cell_type": "code",
   "execution_count": 20,
   "metadata": {},
   "outputs": [
    {
     "name": "stdout",
     "output_type": "stream",
     "text": [
      "WARNING:tensorflow:From /home/tuluhan/anaconda3/lib/python3.7/site-packages/keras/backend/tensorflow_backend.py:66: The name tf.get_default_graph is deprecated. Please use tf.compat.v1.get_default_graph instead.\n",
      "\n",
      "WARNING:tensorflow:From /home/tuluhan/anaconda3/lib/python3.7/site-packages/keras/backend/tensorflow_backend.py:541: The name tf.placeholder is deprecated. Please use tf.compat.v1.placeholder instead.\n",
      "\n",
      "WARNING:tensorflow:From /home/tuluhan/anaconda3/lib/python3.7/site-packages/keras/backend/tensorflow_backend.py:4432: The name tf.random_uniform is deprecated. Please use tf.random.uniform instead.\n",
      "\n",
      "WARNING:tensorflow:From /home/tuluhan/anaconda3/lib/python3.7/site-packages/keras/optimizers.py:793: The name tf.train.Optimizer is deprecated. Please use tf.compat.v1.train.Optimizer instead.\n",
      "\n",
      "Model: \"model_1\"\n",
      "__________________________________________________________________________________________________\n",
      "Layer (type)                    Output Shape         Param #     Connected to                     \n",
      "==================================================================================================\n",
      "input_1 (InputLayer)            (None, 5, 6)         0                                            \n",
      "__________________________________________________________________________________________________\n",
      "time_distributed_1 (TimeDistrib (None, 5, 128)       896         input_1[0][0]                    \n",
      "__________________________________________________________________________________________________\n",
      "time_distributed_2 (TimeDistrib (None, 5, 128)       16512       time_distributed_1[0][0]         \n",
      "__________________________________________________________________________________________________\n",
      "time_distributed_3 (TimeDistrib (None, 5, 64)        8256        time_distributed_2[0][0]         \n",
      "__________________________________________________________________________________________________\n",
      "input_2 (InputLayer)            (None, 1, 5)         0                                            \n",
      "__________________________________________________________________________________________________\n",
      "time_distributed_4 (TimeDistrib (None, 5, 32)        2080        time_distributed_3[0][0]         \n",
      "__________________________________________________________________________________________________\n",
      "lambda_1 (Lambda)               (None, 1, 32)        0           input_2[0][0]                    \n",
      "                                                                 time_distributed_4[0][0]         \n",
      "__________________________________________________________________________________________________\n",
      "input_3 (InputLayer)            (None, 1, 3)         0                                            \n",
      "__________________________________________________________________________________________________\n",
      "concatenate_1 (Concatenate)     (None, 1, 35)        0           lambda_1[0][0]                   \n",
      "                                                                 input_3[0][0]                    \n",
      "__________________________________________________________________________________________________\n",
      "dense_5 (Dense)                 (None, 1, 128)       4608        concatenate_1[0][0]              \n",
      "__________________________________________________________________________________________________\n",
      "dense_6 (Dense)                 (None, 1, 128)       16512       dense_5[0][0]                    \n",
      "__________________________________________________________________________________________________\n",
      "dense_7 (Dense)                 (None, 1, 128)       16512       dense_6[0][0]                    \n",
      "__________________________________________________________________________________________________\n",
      "dense_8 (Dense)                 (None, 1, 6)         774         dense_7[0][0]                    \n",
      "==================================================================================================\n",
      "Total params: 66,150\n",
      "Trainable params: 66,150\n",
      "Non-trainable params: 0\n",
      "__________________________________________________________________________________________________\n"
     ]
    }
   ],
   "source": [
    "observation_layer = Input(shape=(n_max,6))\n",
    "observation_flag_layer=Input(shape=(1,n_max)) \n",
    "\n",
    "observation_encoded = TimeDistributed(Dense(128, activation='relu'))(observation_layer)\n",
    "observation_encoded = TimeDistributed(Dense(128, activation='relu'))(observation_encoded)\n",
    "observation_encoded = TimeDistributed(Dense(64, activation='relu'))(observation_encoded)\n",
    "observation_encoded = TimeDistributed(Dense(32))(observation_encoded)\n",
    "\n",
    "matmul_layer=Lambda(lambda x:(tf.matmul(x[0],x[1])), output_shape =(1,32))\n",
    "\n",
    "representation=matmul_layer([observation_flag_layer,observation_encoded])\n",
    "\n",
    "target_layer = Input(shape=(1,3))\n",
    "\n",
    "decoder_input = Concatenate(axis=-1)([representation, target_layer])\n",
    "\n",
    "decoder = Dense(128, activation='relu')(decoder_input)\n",
    "decoder = Dense(128, activation='relu')(decoder)\n",
    "decoder = Dense(128, activation='relu')(decoder)\n",
    "\n",
    "output_layer = Dense(6)(decoder)\n",
    "\n",
    "#next_model_input=Concatenate(axis=2)([decoder_input, output_layer])\n",
    "rl_input=decoder_input\n",
    "\n",
    "model2 = Model(inputs=[observation_layer,observation_flag_layer,target_layer],outputs=output_layer)\n",
    "model2.compile(optimizer = Adam(lr = 5e-5),loss=custom_loss2)\n",
    "model2.summary()\n",
    "\n",
    "representation_model2 = Model(inputs=[observation_layer,observation_flag_layer,target_layer],outputs=rl_input)"
   ]
  },
  {
   "cell_type": "markdown",
   "metadata": {},
   "source": [
    "#### The weights of LfD network are copied to bootstrap reinforcement learning agent"
   ]
  },
  {
   "cell_type": "code",
   "execution_count": 21,
   "metadata": {},
   "outputs": [
    {
     "name": "stdout",
     "output_type": "stream",
     "text": [
      "WARNING:tensorflow:From /home/tuluhan/anaconda3/lib/python3.7/site-packages/keras/backend/tensorflow_backend.py:190: The name tf.get_default_session is deprecated. Please use tf.compat.v1.get_default_session instead.\n",
      "\n",
      "WARNING:tensorflow:From /home/tuluhan/anaconda3/lib/python3.7/site-packages/keras/backend/tensorflow_backend.py:197: The name tf.ConfigProto is deprecated. Please use tf.compat.v1.ConfigProto instead.\n",
      "\n"
     ]
    }
   ],
   "source": [
    "model2.load_weights('naive_cnmp_3dof_pushing.h5')\n",
    "\n",
    "#Uncomment this for interpolation case\n",
    "#model2.load_weights('naive_cnmp_3dof_pushing_7.h5')"
   ]
  },
  {
   "cell_type": "markdown",
   "metadata": {},
   "source": [
    "### Mismatch function to measure the differences of old and new policy"
   ]
  },
  {
   "cell_type": "code",
   "execution_count": 22,
   "metadata": {},
   "outputs": [],
   "source": [
    "def mismatch_func(actions1,actions2):\n",
    "    error=0\n",
    "    for i in range(time_N):\n",
    "        error2=np.square(actions1[i]-actions2[i])\n",
    "        error=max(error,error2)\n",
    "    return error"
   ]
  },
  {
   "cell_type": "markdown",
   "metadata": {},
   "source": [
    "#### Gaussian Pdf"
   ]
  },
  {
   "cell_type": "code",
   "execution_count": 23,
   "metadata": {},
   "outputs": [],
   "source": [
    "def normpdf(x, mean, sd):\n",
    "    denom = sd*(2*math.pi)**0.5\n",
    "    num= math.exp(-0.5*((x-mean)/float(sd))**2)\n",
    "    return num/denom"
   ]
  },
  {
   "cell_type": "markdown",
   "metadata": {},
   "source": [
    "### The states are recorded by only using the start point and task parameters as observation. "
   ]
  },
  {
   "cell_type": "code",
   "execution_count": 24,
   "metadata": {},
   "outputs": [],
   "source": [
    "pred_y = np.zeros(time_N)\n",
    "pred_std = np.zeros(time_N)\n",
    "states1=[]\n",
    "states2=[]\n",
    "states3=[]\n",
    "observation = np.zeros((1,n_max,6))\n",
    "observation_flag = np.zeros((1,1,n_max))\n",
    "target = np.zeros((1,1,3))\n",
    "observation[0,0] = [times[0],parameters[9,0], parameters[9,1], -0.51061333,  2.42277872, -0.914231]\n",
    "\n",
    "observation_flag[0,0,0] = 1.\n",
    "\n",
    "for i in range(time_N):\n",
    "    \n",
    "    target[0,0,0] = times[i]\n",
    "    target[0,0,1] = parameters[9,0]\n",
    "    target[0,0,2] = parameters[9,1]\n",
    "    if(i==0):\n",
    "        states1=observation\n",
    "        states2=observation_flag\n",
    "        states3=target\n",
    "    else:\n",
    "        states1=np.concatenate((states1,observation),axis=0)\n",
    "        states2=np.concatenate((states2,observation_flag),axis=0)\n",
    "        states3=np.concatenate((states3,target),axis=0)\n",
    "states=[states1,states2,states3]"
   ]
  },
  {
   "cell_type": "code",
   "execution_count": 25,
   "metadata": {},
   "outputs": [],
   "source": [
    "def square_error(arr1,arr2):\n",
    "    errsum=0\n",
    "    for j in range(2):\n",
    "        errsum+=np.square(arr1[j]-arr2[j])\n",
    "    return errsum"
   ]
  },
  {
   "cell_type": "code",
   "execution_count": 26,
   "metadata": {},
   "outputs": [],
   "source": [
    "max_reward = 5\n",
    "var = 0.05\n",
    "reward_array = []"
   ]
  },
  {
   "cell_type": "code",
   "execution_count": 27,
   "metadata": {},
   "outputs": [],
   "source": [
    "saved_trajectory = np.zeros((300,3))"
   ]
  },
  {
   "cell_type": "code",
   "execution_count": 28,
   "metadata": {},
   "outputs": [],
   "source": [
    "def rl_agent(c_t,c): \n",
    "    global max_reward\n",
    "    global var\n",
    "    global saved_trajectory\n",
    "    for i in range(100):                    #supervised_learning\n",
    "        inp,out,sample = get_train_sample()\n",
    "        out[0][0][3]=1\n",
    "        out[0][0][4]=1\n",
    "        out[0][0][5]=1\n",
    "\n",
    "        data = model2.fit(inp,out,batch_size=1,verbose=0)\n",
    "        \n",
    "    \n",
    "    actions, rewards, rewards2 = [], [], []        #arrays to record \n",
    "    action_prob=[]\n",
    "    actions_mean=[]\n",
    "    \n",
    "    agent_model = pr.import_model('Trobot.ttm')    #for each step robot and objects are recreated.\n",
    "    agent=Trobot()\n",
    "    pr.step()\n",
    "    agent.set_joint_target_positions(Threedof_starting_position)\n",
    "    for i in range(50):\n",
    "        pr.step()\n",
    "    \n",
    "    cylinder_object_position = A.object_position[9]\n",
    "    end_goal_position = A.target_position[9]\n",
    "    \n",
    "    #cylinder_object_position = A.object_position[7]           #uncomment for interpolation\n",
    "    #end_goal_position = A.target_position[7]\n",
    "    \n",
    "    target_object = Shape.create(type=PrimitiveShape.CYLINDER, \n",
    "                          color=[0,0,0], size=[0.05, 0.05, 0.05],\n",
    "                          position=cylinder_object_position)\n",
    "\n",
    "    \n",
    "    goal_pos = Shape.create(type=PrimitiveShape.CYLINDER, \n",
    "                          color=[1,0,0], size=[0.06, 0.06, 0.005],\n",
    "                          position=end_goal_position,\n",
    "                               static=True, respondable=False)\n",
    "    pr.step()\n",
    "    \n",
    "    #Rewards for mean of the policy ditribution are observed\n",
    "    traj_list = []\n",
    "    for i in range(time_N):\n",
    "        \n",
    "        pred= model2.predict([[states1[i]],[states2[i]],[states3[i]]])[0][0]\n",
    "\n",
    "        reward2= 0\n",
    "        \n",
    "        agent.set_joint_positions(pred[:3])\n",
    "        traj_list.append(pred[:3])\n",
    "        obj=target_object.get_position()\n",
    "\n",
    "        reward2=-square_error(reward_true[9,i] ,obj)\n",
    "\n",
    "        \n",
    "        reward2=reward2/1.\n",
    "        rewards2.append(reward2)\n",
    "        \n",
    "    observed_reward=np.absolute(np.sum(rewards2))\n",
    "    reward_array.append(observed_reward)\n",
    "    var = min(observed_reward/10,0.05)\n",
    "    if observed_reward<max_reward:\n",
    "        max_reward = observed_reward\n",
    "        saved_trajectory = np.asarray(traj_list)\n",
    "        print(\"new_best\")\n",
    "        \n",
    "    target_object.remove()\n",
    "    agent_model.remove()\n",
    "    goal_pos.remove()\n",
    "    pr.step()\n",
    "    \n",
    "    agent_model = pr.import_model('Trobot.ttm')           #  robot and objects are recreated.\n",
    "    agent=Trobot()\n",
    "    pr.step()\n",
    "    \n",
    "    agent.set_joint_target_positions(Threedof_starting_position)\n",
    "    for i in range(50):\n",
    "        pr.step()\n",
    "        \n",
    "    starting_joints=agent.get_joint_positions()    \n",
    "    cylinder_object_position = A.object_position[9]\n",
    "    end_goal_position = A.target_position[9]\n",
    "    \n",
    "    #cylinder_object_position = A.object_position[7]           #uncomment for interpolation\n",
    "    #end_goal_position = A.target_position[7]\n",
    "    \n",
    "    target_object = Shape.create(type=PrimitiveShape.CYLINDER, \n",
    "                          color=[0,0,0], size=[0.05, 0.05, 0.05],\n",
    "                          position=cylinder_object_position)\n",
    "\n",
    "    \n",
    "    goal_pos = Shape.create(type=PrimitiveShape.CYLINDER, \n",
    "                          color=[1,0,0], size=[0.06, 0.06, 0.005],\n",
    "                          position=end_goal_position,\n",
    "                               static=True, respondable=False)\n",
    "    pr.step()\n",
    "    \n",
    "    \n",
    "    samples2=[]\n",
    "    \n",
    "    #smoothed gaussian noise is added on top of policy mean.\n",
    "\n",
    "    for i in range (3):\n",
    "\n",
    "        mean = 0\n",
    "        std = var \n",
    "        num_samples = 20\n",
    "        samples = np.random.normal(mean, std, size=num_samples)\n",
    "\n",
    "        old_indices = np.arange(0,len(samples))\n",
    "        new_length = 300\n",
    "        new_indices = np.linspace(0,len(samples)-1,new_length)\n",
    "\n",
    "        spl = UnivariateSpline(old_indices,samples,k=3,s=0.1)\n",
    "\n",
    "        samples2.append(spl(new_indices))\n",
    "        \n",
    "    # rewards for sampled policy are obtained\n",
    "    \n",
    "    for i in range(time_N):\n",
    "        \n",
    "        pred= model2.predict([[states1[i]],[states2[i]],[states3[i]]])[0][0]\n",
    "        selected_action=[pred[0]+samples2[0][i],pred[1]+samples2[1][i],pred[2]+samples2[2][i]]\n",
    "        #selected_action = [np.random.normal(pred[0], 0.1, 1)[0], np.random.normal(pred[1], 0.1, 1)[0], np.random.normal(pred[2], 0.1, 1)[0]]\n",
    "        action_prob.append([normpdf(selected_action[0], pred[0], var),normpdf(selected_action[1], pred[1], var),normpdf(selected_action[2], pred[2], var)])\n",
    "        actions.append(selected_action)\n",
    "        actions_mean.append(pred[:3])\n",
    "\n",
    "    object_trajectory = []\n",
    "    for i in range(time_N):\n",
    "        reward = 0\n",
    "        \n",
    "        agent.set_joint_positions(actions[i])\n",
    "        \n",
    "        obj=target_object.get_position()\n",
    "        object_trajectory.append(obj)\n",
    "        \n",
    "    \n",
    "        reward=-square_error(reward_true[9,i] ,obj)\n",
    "        reward=reward*1.0\n",
    "        \n",
    "        rewards.append(reward)\n",
    "    object_trajectory = np.asarray(object_trajectory)\n",
    "\n",
    "    \n",
    "    target_object.remove()\n",
    "    agent_model.remove()\n",
    "    goal_pos.remove()\n",
    "    pr.step()\n",
    "    \n",
    "    \n",
    "    gradient_rewards = np.zeros((time_N))\n",
    "\n",
    "    for i in range(time_N):\n",
    "        gradient_rewards[i]=rewards[i]-rewards2[i]\n",
    "\n",
    "    gradient_rewards /= np.std(gradient_rewards)\n",
    "\n",
    "    advantages=np.zeros((time_N,1,6))\n",
    "    \n",
    "    for i in range(time_N):\n",
    "        for j in range(3):\n",
    "            advantages[i][0][j]=actions[i][j]\n",
    "            advantages[i][0][j+3]=gradient_rewards[i]\n",
    "       \n",
    "\n",
    "    data = model2.fit(states,advantages,verbose=0)\n",
    "\n",
    "    counter=0\n",
    "    while(var>0.1):                                           # off-policy learning\n",
    "        counter=counter+1\n",
    "        actions2=[]\n",
    "        action_prob2=[]\n",
    "        for i in range(50):                                    #supervised learning\n",
    "            inp,out,sample = get_train_sample()\n",
    "            out[0][0][3]=1\n",
    "            out[0][0][4]=1\n",
    "            out[0][0][5]=1\n",
    "            \n",
    "            data = model2.fit(inp,out,batch_size=1,verbose=0)\n",
    "            \n",
    "        for i in range(time_N):                             #reinforcement learning\n",
    "            \n",
    "            pred= model2.predict([[states1[i]],[states2[i]],[states3[i]]])[0][0]\n",
    "            selected_action = actions[i]\n",
    "            selected_action2 = [np.random.normal(pred[0], var, 1)[0], np.random.normal(pred[1], var, 1)[0], np.random.normal(pred[2], var, 1)[0]]\n",
    "            action_prob2.append([normpdf(selected_action[0], pred[0], var),normpdf(selected_action[1], pred[1], var),normpdf(selected_action[2], pred[2], var)])\n",
    "            actions2.append(pred[:3])\n",
    "        advantages2=np.zeros((time_N,1,6))    \n",
    "        for i in range(time_N):\n",
    "            for j in range(3):\n",
    "                advantages2[i][0][j]=actions[i][j]\n",
    "                advantages2[i][0][3+j]=gradient_rewards[i]*min(1,(action_prob2[i][j]/action_prob[i][j]))\n",
    "        #data = model2.fit(states,advantages2,verbose=0)\n",
    "        act1=np.transpose(actions_mean)\n",
    "        act2=np.transpose(actions2)\n",
    "        \n",
    "        plcy_diff1=mismatch_func(act1[0],act2[0])\n",
    "        plcy_diff2=mismatch_func(act1[1],act2[1])\n",
    "        plcy_diff3=mismatch_func(act1[2],act2[2])\n",
    "        \n",
    "        plcy_diff=max(plcy_diff1,plcy_diff2,plcy_diff3)\n",
    "        if plcy_diff>0.001:\n",
    "            break\n",
    "        elif counter>50:             #check for infinite loop\n",
    "            break\n",
    "        else:\n",
    "            print(\"offpolicy\")\n",
    "            data = model2.fit(states,advantages2,verbose=0)\n",
    "        #print(KL_diff)\n",
    "    return observed_reward"
   ]
  },
  {
   "cell_type": "code",
   "execution_count": 29,
   "metadata": {},
   "outputs": [],
   "source": [
    "pr.start()"
   ]
  },
  {
   "cell_type": "code",
   "execution_count": 30,
   "metadata": {},
   "outputs": [],
   "source": [
    "#target_object.remove()\n",
    "#agent_model.remove()\n",
    "#goal_pos.remove()\n",
    "pr.step()"
   ]
  },
  {
   "cell_type": "code",
   "execution_count": 31,
   "metadata": {
    "scrolled": true
   },
   "outputs": [
    {
     "name": "stdout",
     "output_type": "stream",
     "text": [
      "new_best\n",
      "0\n",
      "new_best\n",
      "1\n"
     ]
    },
    {
     "ename": "KeyboardInterrupt",
     "evalue": "",
     "output_type": "error",
     "traceback": [
      "\u001b[0;31m---------------------------------------------------------------------------\u001b[0m",
      "\u001b[0;31mKeyboardInterrupt\u001b[0m                         Traceback (most recent call last)",
      "\u001b[0;32m<ipython-input-31-27d572d6ee09>\u001b[0m in \u001b[0;36m<module>\u001b[0;34m\u001b[0m\n\u001b[1;32m      8\u001b[0m     \u001b[0mreward_array\u001b[0m \u001b[0;34m=\u001b[0m \u001b[0;34m[\u001b[0m\u001b[0;34m]\u001b[0m\u001b[0;34m\u001b[0m\u001b[0;34m\u001b[0m\u001b[0m\n\u001b[1;32m      9\u001b[0m     \u001b[0;32mfor\u001b[0m \u001b[0mstep\u001b[0m \u001b[0;32min\u001b[0m \u001b[0mrange\u001b[0m\u001b[0;34m(\u001b[0m\u001b[0;36m100\u001b[0m\u001b[0;34m)\u001b[0m\u001b[0;34m:\u001b[0m\u001b[0;34m\u001b[0m\u001b[0;34m\u001b[0m\u001b[0m\n\u001b[0;32m---> 10\u001b[0;31m         \u001b[0mrrr\u001b[0m\u001b[0;34m=\u001b[0m\u001b[0mrl_agent\u001b[0m\u001b[0;34m(\u001b[0m\u001b[0;34m[\u001b[0m\u001b[0mtimes\u001b[0m\u001b[0;34m[\u001b[0m\u001b[0;36m0\u001b[0m\u001b[0;34m]\u001b[0m\u001b[0;34m,\u001b[0m\u001b[0mtimes\u001b[0m\u001b[0;34m[\u001b[0m\u001b[0;36m299\u001b[0m\u001b[0;34m]\u001b[0m\u001b[0;34m]\u001b[0m\u001b[0;34m,\u001b[0m\u001b[0;34m[\u001b[0m\u001b[0my\u001b[0m\u001b[0;34m[\u001b[0m\u001b[0;36m9\u001b[0m\u001b[0;34m,\u001b[0m\u001b[0;36m0\u001b[0m\u001b[0;34m]\u001b[0m\u001b[0;34m,\u001b[0m\u001b[0my\u001b[0m\u001b[0;34m[\u001b[0m\u001b[0;36m9\u001b[0m\u001b[0;34m,\u001b[0m\u001b[0;36m299\u001b[0m\u001b[0;34m]\u001b[0m\u001b[0;34m]\u001b[0m\u001b[0;34m)\u001b[0m\u001b[0;34m\u001b[0m\u001b[0;34m\u001b[0m\u001b[0m\n\u001b[0m\u001b[1;32m     11\u001b[0m \u001b[0;34m\u001b[0m\u001b[0m\n\u001b[1;32m     12\u001b[0m         \u001b[0mprint\u001b[0m\u001b[0;34m(\u001b[0m\u001b[0mstep\u001b[0m\u001b[0;34m)\u001b[0m\u001b[0;34m\u001b[0m\u001b[0;34m\u001b[0m\u001b[0m\n",
      "\u001b[0;32m<ipython-input-28-1cd0855dd497>\u001b[0m in \u001b[0;36mrl_agent\u001b[0;34m(c_t, c)\u001b[0m\n\u001b[1;32m     48\u001b[0m         \u001b[0mreward2\u001b[0m\u001b[0;34m=\u001b[0m \u001b[0;36m0\u001b[0m\u001b[0;34m\u001b[0m\u001b[0;34m\u001b[0m\u001b[0m\n\u001b[1;32m     49\u001b[0m \u001b[0;34m\u001b[0m\u001b[0m\n\u001b[0;32m---> 50\u001b[0;31m         \u001b[0magent\u001b[0m\u001b[0;34m.\u001b[0m\u001b[0mset_joint_positions\u001b[0m\u001b[0;34m(\u001b[0m\u001b[0mpred\u001b[0m\u001b[0;34m[\u001b[0m\u001b[0;34m:\u001b[0m\u001b[0;36m3\u001b[0m\u001b[0;34m]\u001b[0m\u001b[0;34m)\u001b[0m\u001b[0;34m\u001b[0m\u001b[0;34m\u001b[0m\u001b[0m\n\u001b[0m\u001b[1;32m     51\u001b[0m         \u001b[0mtraj_list\u001b[0m\u001b[0;34m.\u001b[0m\u001b[0mappend\u001b[0m\u001b[0;34m(\u001b[0m\u001b[0mpred\u001b[0m\u001b[0;34m[\u001b[0m\u001b[0;34m:\u001b[0m\u001b[0;36m3\u001b[0m\u001b[0;34m]\u001b[0m\u001b[0;34m)\u001b[0m\u001b[0;34m\u001b[0m\u001b[0;34m\u001b[0m\u001b[0m\n\u001b[1;32m     52\u001b[0m         \u001b[0mobj\u001b[0m\u001b[0;34m=\u001b[0m\u001b[0mtarget_object\u001b[0m\u001b[0;34m.\u001b[0m\u001b[0mget_position\u001b[0m\u001b[0;34m(\u001b[0m\u001b[0;34m)\u001b[0m\u001b[0;34m\u001b[0m\u001b[0;34m\u001b[0m\u001b[0m\n",
      "\u001b[0;32m~/.local/lib/python3.7/site-packages/pyrep/robots/robot_component.py\u001b[0m in \u001b[0;36mset_joint_positions\u001b[0;34m(self, positions, allow_force_mode)\u001b[0m\n\u001b[1;32m    104\u001b[0m \u001b[0;34m\u001b[0m\u001b[0m\n\u001b[1;32m    105\u001b[0m         [j.set_joint_position(p, allow_force_mode)  # type: ignore\n\u001b[0;32m--> 106\u001b[0;31m          for j, p in zip(self.joints, positions)]\n\u001b[0m\u001b[1;32m    107\u001b[0m         [j.set_joint_target_position(p)  # type: ignore\n\u001b[1;32m    108\u001b[0m          for j, p in zip(self.joints, positions)]\n",
      "\u001b[0;32m~/.local/lib/python3.7/site-packages/pyrep/robots/robot_component.py\u001b[0m in \u001b[0;36m<listcomp>\u001b[0;34m(.0)\u001b[0m\n\u001b[1;32m    104\u001b[0m \u001b[0;34m\u001b[0m\u001b[0m\n\u001b[1;32m    105\u001b[0m         [j.set_joint_position(p, allow_force_mode)  # type: ignore\n\u001b[0;32m--> 106\u001b[0;31m          for j, p in zip(self.joints, positions)]\n\u001b[0m\u001b[1;32m    107\u001b[0m         [j.set_joint_target_position(p)  # type: ignore\n\u001b[1;32m    108\u001b[0m          for j, p in zip(self.joints, positions)]\n",
      "\u001b[0;32m~/.local/lib/python3.7/site-packages/pyrep/objects/joint.py\u001b[0m in \u001b[0;36mset_joint_position\u001b[0;34m(self, position, allow_force_mode)\u001b[0m\n\u001b[1;32m     62\u001b[0m         \u001b[0msim\u001b[0m\u001b[0;34m.\u001b[0m\u001b[0msimSetJointPosition\u001b[0m\u001b[0;34m(\u001b[0m\u001b[0mself\u001b[0m\u001b[0;34m.\u001b[0m\u001b[0m_handle\u001b[0m\u001b[0;34m,\u001b[0m \u001b[0mposition\u001b[0m\u001b[0;34m)\u001b[0m\u001b[0;34m\u001b[0m\u001b[0;34m\u001b[0m\u001b[0m\n\u001b[1;32m     63\u001b[0m         \u001b[0mself\u001b[0m\u001b[0;34m.\u001b[0m\u001b[0mset_joint_target_position\u001b[0m\u001b[0;34m(\u001b[0m\u001b[0mposition\u001b[0m\u001b[0;34m)\u001b[0m\u001b[0;34m\u001b[0m\u001b[0;34m\u001b[0m\u001b[0m\n\u001b[0;32m---> 64\u001b[0;31m         \u001b[0msim\u001b[0m\u001b[0;34m.\u001b[0m\u001b[0msimExtStep\u001b[0m\u001b[0;34m(\u001b[0m\u001b[0;32mTrue\u001b[0m\u001b[0;34m)\u001b[0m  \u001b[0;31m# Have to step once for changes to take effect\u001b[0m\u001b[0;34m\u001b[0m\u001b[0;34m\u001b[0m\u001b[0m\n\u001b[0m\u001b[1;32m     65\u001b[0m \u001b[0;34m\u001b[0m\u001b[0m\n\u001b[1;32m     66\u001b[0m         \u001b[0;31m# Re-enable the dynamics\u001b[0m\u001b[0;34m\u001b[0m\u001b[0;34m\u001b[0m\u001b[0;34m\u001b[0m\u001b[0m\n",
      "\u001b[0;32m~/.local/lib/python3.7/site-packages/pyrep/backend/sim.py\u001b[0m in \u001b[0;36msimExtStep\u001b[0;34m(stepIfRunning)\u001b[0m\n\u001b[1;32m     70\u001b[0m \u001b[0;34m\u001b[0m\u001b[0m\n\u001b[1;32m     71\u001b[0m \u001b[0;32mdef\u001b[0m \u001b[0msimExtStep\u001b[0m\u001b[0;34m(\u001b[0m\u001b[0mstepIfRunning\u001b[0m\u001b[0;34m=\u001b[0m\u001b[0;32mTrue\u001b[0m\u001b[0;34m)\u001b[0m\u001b[0;34m:\u001b[0m\u001b[0;34m\u001b[0m\u001b[0;34m\u001b[0m\u001b[0m\n\u001b[0;32m---> 72\u001b[0;31m     \u001b[0mlib\u001b[0m\u001b[0;34m.\u001b[0m\u001b[0msimExtStep\u001b[0m\u001b[0;34m(\u001b[0m\u001b[0mstepIfRunning\u001b[0m\u001b[0;34m)\u001b[0m\u001b[0;34m\u001b[0m\u001b[0;34m\u001b[0m\u001b[0m\n\u001b[0m\u001b[1;32m     73\u001b[0m \u001b[0;34m\u001b[0m\u001b[0m\n\u001b[1;32m     74\u001b[0m \u001b[0;34m\u001b[0m\u001b[0m\n",
      "\u001b[0;31mKeyboardInterrupt\u001b[0m: "
     ]
    }
   ],
   "source": [
    "training_loss = np.zeros(2000)\n",
    "reward_array_list = []\n",
    "reward_array_list.append(reward_array)\n",
    "for kk in range(10):\n",
    "    model2.load_weights('naive_cnmp_3dof_pushing.h5')\n",
    "    #Uncomment this for interpolation case\n",
    "    #model2.load_weights('naive_cnmp_3dof_pushing_7.h5')\n",
    "    reward_array = []\n",
    "    for step in range(100):\n",
    "        rrr=rl_agent([times[0],times[299]],[y[9,0],y[9,299]])\n",
    "        \n",
    "        print(step)\n",
    "    reward_array_list.append(reward_array)"
   ]
  },
  {
   "cell_type": "code",
   "execution_count": 112,
   "metadata": {},
   "outputs": [
    {
     "data": {
      "text/plain": [
       "array([[-4.69793379e-01,  2.36968136e+00, -8.53807569e-01],\n",
       "       [-4.69793379e-01,  2.36968136e+00, -8.53807569e-01],\n",
       "       [-4.68066633e-01,  2.36962366e+00, -8.49924564e-01],\n",
       "       [-4.64178830e-01,  2.36734390e+00, -8.45393538e-01],\n",
       "       [-4.58886921e-01,  2.36435866e+00, -8.39875340e-01],\n",
       "       [-4.53598082e-01,  2.36140013e+00, -8.34372520e-01],\n",
       "       [-4.48172361e-01,  2.35846710e+00, -8.28798413e-01],\n",
       "       [-4.42686141e-01,  2.35413718e+00, -8.23413134e-01],\n",
       "       [-4.37354386e-01,  2.34756947e+00, -8.17982435e-01],\n",
       "       [-4.32117403e-01,  2.33879876e+00, -8.12129140e-01],\n",
       "       [-4.26863879e-01,  2.33001995e+00, -8.06212664e-01],\n",
       "       [-4.21592593e-01,  2.32109070e+00, -8.00170541e-01],\n",
       "       [-4.16311681e-01,  2.31214523e+00, -7.94102550e-01],\n",
       "       [-4.10816133e-01,  2.30286264e+00, -7.87847400e-01],\n",
       "       [-4.05192286e-01,  2.29343224e+00, -7.81472683e-01],\n",
       "       [-3.99555445e-01,  2.28397250e+00, -7.75092244e-01],\n",
       "       [-3.92737210e-01,  2.27319241e+00, -7.68948555e-01],\n",
       "       [-3.85843217e-01,  2.26232719e+00, -7.62806177e-01],\n",
       "       [-3.78691345e-01,  2.25098610e+00, -7.56263018e-01],\n",
       "       [-3.71505201e-01,  2.23959422e+00, -7.50027537e-01],\n",
       "       [-3.64309281e-01,  2.22818756e+00, -7.43879437e-01],\n",
       "       [-3.57170403e-01,  2.21680641e+00, -7.37612605e-01],\n",
       "       [-3.50133598e-01,  2.20521045e+00, -7.31526732e-01],\n",
       "       [-3.42918754e-01,  2.19304633e+00, -7.25213647e-01],\n",
       "       [-3.35596770e-01,  2.18050551e+00, -7.18663335e-01],\n",
       "       [-3.28272700e-01,  2.16796422e+00, -7.12116838e-01],\n",
       "       [-3.20948601e-01,  2.15542245e+00, -7.05570340e-01],\n",
       "       [-3.13624501e-01,  2.14288116e+00, -6.99023962e-01],\n",
       "       [-3.06300431e-01,  2.13033962e+00, -6.92477465e-01],\n",
       "       [-2.99508870e-01,  2.11846924e+00, -6.86271429e-01],\n",
       "       [-2.92947471e-01,  2.10696435e+00, -6.80311441e-01],\n",
       "       [-2.86386073e-01,  2.09545922e+00, -6.74351454e-01],\n",
       "       [-2.79824615e-01,  2.08395433e+00, -6.68391466e-01],\n",
       "       [-2.73263246e-01,  2.07244945e+00, -6.62431479e-01],\n",
       "       [-2.66701788e-01,  2.06094432e+00, -6.56471491e-01],\n",
       "       [-2.60113835e-01,  2.04932928e+00, -6.50417924e-01],\n",
       "       [-2.53523111e-01,  2.03770351e+00, -6.44354939e-01],\n",
       "       [-2.46932417e-01,  2.02607727e+00, -6.38291836e-01],\n",
       "       [-2.40373433e-01,  2.01453829e+00, -6.32279277e-01],\n",
       "       [-2.33931929e-01,  2.00332141e+00, -6.26453340e-01],\n",
       "       [-2.27490351e-01,  1.99210477e+00, -6.20627463e-01],\n",
       "       [-2.21048802e-01,  1.98088813e+00, -6.14801526e-01],\n",
       "       [-2.14500219e-01,  1.96955156e+00, -6.09072804e-01],\n",
       "       [-2.07717106e-01,  1.95816278e+00, -6.03928208e-01],\n",
       "       [-2.00925872e-01,  1.94677496e+00, -5.98808467e-01],\n",
       "       [-1.94134653e-01,  1.93538737e+00, -5.93688726e-01],\n",
       "       [-1.87822118e-01,  1.92459226e+00, -5.88910222e-01],\n",
       "       [-1.81708097e-01,  1.91404033e+00, -5.84261656e-01],\n",
       "       [-1.75611794e-01,  1.90350556e+00, -5.79593718e-01],\n",
       "       [-1.69515461e-01,  1.89297032e+00, -5.74925780e-01],\n",
       "       [-1.63419157e-01,  1.88243532e+00, -5.70257902e-01],\n",
       "       [-1.57295614e-01,  1.87192535e+00, -5.65574646e-01],\n",
       "       [-1.51003599e-01,  1.86157203e+00, -5.60796022e-01],\n",
       "       [-1.44694343e-01,  1.85122418e+00, -5.55993557e-01],\n",
       "       [-1.38369054e-01,  1.84088206e+00, -5.51168799e-01],\n",
       "       [-1.32366478e-01,  1.83105278e+00, -5.46475410e-01],\n",
       "       [-1.26361042e-01,  1.82127285e+00, -5.41806698e-01],\n",
       "       [-1.20201558e-01,  1.81121421e+00, -5.37082076e-01],\n",
       "       [-1.14042088e-01,  1.80115604e+00, -5.32357574e-01],\n",
       "       [-1.08231120e-01,  1.79091859e+00, -5.27821839e-01],\n",
       "       [-1.02437094e-01,  1.78067231e+00, -5.23295403e-01],\n",
       "       [-9.66429710e-02,  1.77042580e+00, -5.18768787e-01],\n",
       "       [-9.12282765e-02,  1.76203227e+00, -5.16211927e-01],\n",
       "       [-8.49888250e-02,  1.75436711e+00, -5.14473438e-01],\n",
       "       [-7.81446397e-02,  1.74674821e+00, -5.12766600e-01],\n",
       "       [-7.13004321e-02,  1.73912954e+00, -5.11059761e-01],\n",
       "       [-6.56902865e-02,  1.73268986e+00, -5.08966565e-01],\n",
       "       [-6.10230118e-02,  1.72866225e+00, -5.06666243e-01],\n",
       "       [-5.63556924e-02,  1.72463512e+00, -5.04365861e-01],\n",
       "       [-5.17482758e-02,  1.72049475e+00, -5.02117753e-01],\n",
       "       [-4.71553616e-02,  1.71632719e+00, -4.99882311e-01],\n",
       "       [-4.25624102e-02,  1.71215940e+00, -4.97646779e-01],\n",
       "       [-3.79950255e-02,  1.70800805e+00, -4.95424956e-01],\n",
       "       [-3.38824317e-02,  1.70413733e+00, -4.93445188e-01],\n",
       "       [-2.97698397e-02,  1.70026684e+00, -4.91465420e-01],\n",
       "       [-2.37418078e-02,  1.69739151e+00, -4.89721596e-01],\n",
       "       [-1.75594222e-02,  1.69492602e+00, -4.88298893e-01],\n",
       "       [-1.03311520e-02,  1.69175196e+00, -4.86498982e-01],\n",
       "       [-1.70733780e-03,  1.68761039e+00, -4.84159440e-01],\n",
       "       [ 6.91655464e-03,  1.68346858e+00, -4.81819838e-01],\n",
       "       [ 1.55403521e-02,  1.67932701e+00, -4.79480237e-01],\n",
       "       [ 2.42034178e-02,  1.67520285e+00, -4.77142602e-01],\n",
       "       [ 3.28862965e-02,  1.67108798e+00, -4.74805892e-01],\n",
       "       [ 4.15853411e-02,  1.66693950e+00, -4.72426772e-01],\n",
       "       [ 5.02806231e-02,  1.66278219e+00, -4.70052749e-01],\n",
       "       [ 5.89625686e-02,  1.65859437e+00, -4.67697620e-01],\n",
       "       [ 6.76445365e-02,  1.65440655e+00, -4.65342462e-01],\n",
       "       [ 7.63266161e-02,  1.65021873e+00, -4.62987334e-01],\n",
       "       [ 8.52074921e-02,  1.64545703e+00, -4.60397333e-01],\n",
       "       [ 9.43739042e-02,  1.63992977e+00, -4.57644254e-01],\n",
       "       [ 1.03504643e-01,  1.63456821e+00, -4.55127597e-01],\n",
       "       [ 1.12635449e-01,  1.62920690e+00, -4.52610850e-01],\n",
       "       [ 1.21766284e-01,  1.62384558e+00, -4.50094193e-01],\n",
       "       [ 1.32435441e-01,  1.61873102e+00, -4.46759999e-01],\n",
       "       [ 1.44291863e-01,  1.61378646e+00, -4.42802250e-01],\n",
       "       [ 1.56163022e-01,  1.60884309e+00, -4.38814223e-01],\n",
       "       [ 1.68034166e-01,  1.60389948e+00, -4.34826285e-01],\n",
       "       [ 1.79905936e-01,  1.59893799e+00, -4.30841267e-01],\n",
       "       [ 1.91777676e-01,  1.59397674e+00, -4.26856279e-01],\n",
       "       [ 2.03649223e-01,  1.58901548e+00, -4.22871351e-01],\n",
       "       [ 2.15520948e-01,  1.58405399e+00, -4.18886393e-01],\n",
       "       [ 2.27392644e-01,  1.57909250e+00, -4.14901435e-01],\n",
       "       [ 2.39264250e-01,  1.57413125e+00, -4.10916477e-01],\n",
       "       [ 2.51136065e-01,  1.56917000e+00, -4.06931460e-01],\n",
       "       [ 2.63007730e-01,  1.56420851e+00, -4.02946502e-01],\n",
       "       [ 2.74878651e-01,  1.55924392e+00, -3.98986191e-01],\n",
       "       [ 2.86749095e-01,  1.55427694e+00, -3.95044059e-01],\n",
       "       [ 2.98921168e-01,  1.54965639e+00, -3.91222030e-01],\n",
       "       [ 3.11109126e-01,  1.54505420e+00, -3.87406439e-01],\n",
       "       [ 3.23297113e-01,  1.54045200e+00, -3.83590758e-01],\n",
       "       [ 3.35485101e-01,  1.53584957e+00, -3.79775077e-01],\n",
       "       [ 3.47673118e-01,  1.53124738e+00, -3.75959426e-01],\n",
       "       [ 3.60023201e-01,  1.52658916e+00, -3.72098327e-01],\n",
       "       [ 3.72378230e-01,  1.52192879e+00, -3.68235826e-01],\n",
       "       [ 3.84733260e-01,  1.51726890e+00, -3.64373326e-01],\n",
       "       [ 3.97082120e-01,  1.51261902e+00, -3.60507578e-01],\n",
       "       [ 4.09571081e-01,  1.50802040e+00, -3.56928676e-01],\n",
       "       [ 4.22146618e-01,  1.50344348e+00, -3.53516191e-01],\n",
       "       [ 4.34722304e-01,  1.49886632e+00, -3.50103647e-01],\n",
       "       [ 4.47445095e-01,  1.49407983e+00, -3.46659124e-01],\n",
       "       [ 4.60239083e-01,  1.48919201e+00, -3.43199193e-01],\n",
       "       [ 4.73032951e-01,  1.48430419e+00, -3.39739203e-01],\n",
       "       [ 4.85827029e-01,  1.47941637e+00, -3.36279213e-01],\n",
       "       [ 4.98621047e-01,  1.47452855e+00, -3.32819223e-01],\n",
       "       [ 5.11684835e-01,  1.46949816e+00, -3.29412788e-01],\n",
       "       [ 5.25211036e-01,  1.46422410e+00, -3.26098144e-01],\n",
       "       [ 5.38737178e-01,  1.45895004e+00, -3.22783500e-01],\n",
       "       [ 5.52263319e-01,  1.45367575e+00, -3.19468886e-01],\n",
       "       [ 5.65789342e-01,  1.44840169e+00, -3.16154242e-01],\n",
       "       [ 5.79315543e-01,  1.44312763e+00, -3.12839597e-01],\n",
       "       [ 5.92841566e-01,  1.43785357e+00, -3.09525013e-01],\n",
       "       [ 6.06401324e-01,  1.43260455e+00, -3.06168884e-01],\n",
       "       [ 6.20108902e-01,  1.42771888e+00, -3.02580029e-01],\n",
       "       [ 6.33816361e-01,  1.42283320e+00, -2.98991144e-01],\n",
       "       [ 6.47523761e-01,  1.41794729e+00, -2.95402288e-01],\n",
       "       [ 6.61231220e-01,  1.41306138e+00, -2.91813403e-01],\n",
       "       [ 6.74934745e-01,  1.40817642e+00, -2.88224936e-01],\n",
       "       [ 6.88484013e-01,  1.40331769e+00, -2.84653246e-01],\n",
       "       [ 7.02033401e-01,  1.39845896e+00, -2.81081498e-01],\n",
       "       [ 7.15582609e-01,  1.39359975e+00, -2.77509809e-01],\n",
       "       [ 7.29131877e-01,  1.38874102e+00, -2.73938060e-01],\n",
       "       [ 7.42528200e-01,  1.38393092e+00, -2.70319760e-01],\n",
       "       [ 7.55908191e-01,  1.37921667e+00, -2.66575634e-01],\n",
       "       [ 7.69288003e-01,  1.37454772e+00, -2.62771070e-01],\n",
       "       [ 7.82667696e-01,  1.36987853e+00, -2.58966535e-01],\n",
       "       [ 7.95979440e-01,  1.36529016e+00, -2.55199552e-01],\n",
       "       [ 8.09325159e-01,  1.36072636e+00, -2.51454473e-01],\n",
       "       [ 8.22670817e-01,  1.35616279e+00, -2.47709334e-01],\n",
       "       [ 8.36016476e-01,  1.35159898e+00, -2.43964151e-01],\n",
       "       [ 8.49190831e-01,  1.34707236e+00, -2.40236849e-01],\n",
       "       [ 8.62333357e-01,  1.34255266e+00, -2.36512914e-01],\n",
       "       [ 8.75475824e-01,  1.33803272e+00, -2.32788920e-01],\n",
       "       [ 8.88577044e-01,  1.33344555e+00, -2.29044944e-01],\n",
       "       [ 9.01322842e-01,  1.32859850e+00, -2.25228086e-01],\n",
       "       [ 9.14068580e-01,  1.32375121e+00, -2.21411213e-01],\n",
       "       [ 9.26814377e-01,  1.31890416e+00, -2.17594385e-01],\n",
       "       [ 9.39569592e-01,  1.31405878e+00, -2.13778049e-01],\n",
       "       [ 9.52359617e-01,  1.30921888e+00, -2.09963769e-01],\n",
       "       [ 9.65074956e-01,  1.30441403e+00, -2.06162959e-01],\n",
       "       [ 9.77868259e-01,  1.29955363e+00, -2.02340811e-01],\n",
       "       [ 9.90672767e-01,  1.29470110e+00, -1.98524728e-01],\n",
       "       [ 1.00347757e+00,  1.28984833e+00, -1.94708526e-01],\n",
       "       [ 1.01628196e+00,  1.28499603e+00, -1.90892458e-01],\n",
       "       [ 1.02908516e+00,  1.28014278e+00, -1.87076598e-01],\n",
       "       [ 1.04185998e+00,  1.27527881e+00, -1.83267504e-01],\n",
       "       [ 1.05463481e+00,  1.27041507e+00, -1.79458380e-01],\n",
       "       [ 1.06739438e+00,  1.26555061e+00, -1.75648868e-01],\n",
       "       [ 1.08013594e+00,  1.26068616e+00, -1.71839058e-01],\n",
       "       [ 1.09288192e+00,  1.25584412e+00, -1.68018147e-01],\n",
       "       [ 1.10563338e+00,  1.25102854e+00, -1.64184228e-01],\n",
       "       [ 1.11838472e+00,  1.24621296e+00, -1.60350338e-01],\n",
       "       [ 1.13113594e+00,  1.24139762e+00, -1.56516492e-01],\n",
       "       [ 1.14388776e+00,  1.23658180e+00, -1.52682543e-01],\n",
       "       [ 1.15663898e+00,  1.23176634e+00, -1.48848578e-01],\n",
       "       [ 1.16939044e+00,  1.22695065e+00, -1.45014703e-01],\n",
       "       [ 1.18214178e+00,  1.22213519e+00, -1.41180828e-01],\n",
       "       [ 1.19489312e+00,  1.21731949e+00, -1.37346953e-01],\n",
       "       [ 1.20764446e+00,  1.21250391e+00, -1.33513048e-01],\n",
       "       [ 1.22039580e+00,  1.20768833e+00, -1.29679173e-01],\n",
       "       [ 1.23314738e+00,  1.20287275e+00, -1.25845224e-01],\n",
       "       [ 1.24589860e+00,  1.19805717e+00, -1.22011371e-01],\n",
       "       [ 1.25860155e+00,  1.19325542e+00, -1.18192732e-01],\n",
       "       [ 1.27127576e+00,  1.18846154e+00, -1.14383064e-01],\n",
       "       [ 1.28394961e+00,  1.18366599e+00, -1.10572472e-01],\n",
       "       [ 1.29662335e+00,  1.17887044e+00, -1.06761895e-01],\n",
       "       [ 1.30929697e+00,  1.17407513e+00, -1.02951378e-01],\n",
       "       [ 1.32197046e+00,  1.16927958e+00, -9.91408750e-02],\n",
       "       [ 1.33464444e+00,  1.16448414e+00, -9.53303054e-02],\n",
       "       [ 1.34731793e+00,  1.15968871e+00, -9.15198475e-02],\n",
       "       [ 1.35999167e+00,  1.15489316e+00, -8.77093151e-02],\n",
       "       [ 1.37266552e+00,  1.15009785e+00, -8.38987678e-02],\n",
       "       [ 1.38528728e+00,  1.14532995e+00, -8.01059827e-02],\n",
       "       [ 1.39712858e+00,  1.14093626e+00, -7.65429512e-02],\n",
       "       [ 1.40870881e+00,  1.13667059e+00, -7.30616748e-02],\n",
       "       [ 1.42028928e+00,  1.13240504e+00, -6.95804358e-02],\n",
       "       [ 1.43186903e+00,  1.12813926e+00, -6.60994947e-02],\n",
       "       [ 1.44346690e+00,  1.12388182e+00, -6.26154914e-02],\n",
       "       [ 1.45503354e+00,  1.11966801e+00, -5.91661111e-02],\n",
       "       [ 1.46651268e+00,  1.11554289e+00, -5.57742938e-02],\n",
       "       [ 1.47799230e+00,  1.11141777e+00, -5.23824692e-02],\n",
       "       [ 1.48947144e+00,  1.10729289e+00, -4.89906371e-02],\n",
       "       [ 1.50095069e+00,  1.10316777e+00, -4.55988273e-02],\n",
       "       [ 1.51243019e+00,  1.09904289e+00, -4.22069356e-02],\n",
       "       [ 1.52390981e+00,  1.09491777e+00, -3.88151035e-02],\n",
       "       [ 1.53538883e+00,  1.09079289e+00, -3.54232565e-02],\n",
       "       [ 1.54686856e+00,  1.08666766e+00, -3.20313871e-02],\n",
       "       [ 1.55834770e+00,  1.08254278e+00, -2.86395401e-02],\n",
       "       [ 1.56982732e+00,  1.07841754e+00, -2.52477080e-02],\n",
       "       [ 1.58130682e+00,  1.07429254e+00, -2.18558460e-02],\n",
       "       [ 1.59265864e+00,  1.07026243e+00, -1.84943229e-02],\n",
       "       [ 1.60316730e+00,  1.06638849e+00, -1.55465901e-02],\n",
       "       [ 1.61367631e+00,  1.06251419e+00, -1.25987753e-02],\n",
       "       [ 1.62418485e+00,  1.05864012e+00, -9.65107232e-03],\n",
       "       [ 1.63469386e+00,  1.05476606e+00, -6.70319051e-03],\n",
       "       [ 1.64520264e+00,  1.05089188e+00, -3.75548750e-03],\n",
       "       [ 1.65571141e+00,  1.04701769e+00, -8.07717443e-04],\n",
       "       [ 1.66622031e+00,  1.04314351e+00,  2.14011967e-03],\n",
       "       [ 1.67695689e+00,  1.03908563e+00,  5.09454310e-03],\n",
       "       [ 1.68861139e+00,  1.03428674e+00,  8.07583332e-03],\n",
       "       [ 1.70026588e+00,  1.02948809e+00,  1.10570490e-02],\n",
       "       [ 1.71192050e+00,  1.02468944e+00,  1.40384436e-02],\n",
       "       [ 1.72357512e+00,  1.01989055e+00,  1.70196593e-02],\n",
       "       [ 1.73522973e+00,  1.01509190e+00,  2.00009495e-02],\n",
       "       [ 1.74688411e+00,  1.01029313e+00,  2.29822099e-02],\n",
       "       [ 1.75851929e+00,  1.00555229e+00,  2.59520710e-02],\n",
       "       [ 1.77011704e+00,  1.00092411e+00,  2.88996249e-02],\n",
       "       [ 1.78171468e+00,  9.96295929e-01,  3.18472385e-02],\n",
       "       [ 1.79331207e+00,  9.91667807e-01,  3.47948074e-02],\n",
       "       [ 1.80469441e+00,  9.87185538e-01,  3.76754999e-02],\n",
       "       [ 1.81532478e+00,  9.83226418e-01,  4.03226465e-02],\n",
       "       [ 1.82595491e+00,  9.79267180e-01,  4.29698229e-02],\n",
       "       [ 1.83658183e+00,  9.75310266e-01,  4.56158519e-02],\n",
       "       [ 1.84651470e+00,  9.71862435e-01,  4.80273068e-02],\n",
       "       [ 1.85644746e+00,  9.68414545e-01,  5.04387915e-02],\n",
       "       [ 1.86638045e+00,  9.64966655e-01,  5.28502464e-02],\n",
       "       [ 1.87631297e+00,  9.61518586e-01,  5.52617311e-02],\n",
       "       [ 1.88624132e+00,  9.58072364e-01,  5.76785654e-02],\n",
       "       [ 1.89613557e+00,  9.54638183e-01,  6.01376593e-02],\n",
       "       [ 1.90602922e+00,  9.51203823e-01,  6.25967532e-02],\n",
       "       [ 1.91592312e+00,  9.47769582e-01,  6.50559068e-02],\n",
       "       [ 1.92581713e+00,  9.44335341e-01,  6.75149560e-02],\n",
       "       [ 1.93571091e+00,  9.40901041e-01,  6.99740648e-02],\n",
       "       [ 1.94560456e+00,  9.37466919e-01,  7.24331737e-02],\n",
       "       [ 1.95525360e+00,  9.34016466e-01,  7.47205019e-02],\n",
       "       [ 1.96463263e+00,  9.30548251e-01,  7.68186003e-02],\n",
       "       [ 1.97401273e+00,  9.27080929e-01,  7.89186507e-02],\n",
       "       [ 1.98339438e+00,  9.23614979e-01,  8.10212046e-02],\n",
       "       [ 1.99277616e+00,  9.20149028e-01,  8.31236541e-02],\n",
       "       [ 2.00215816e+00,  9.16682959e-01,  8.52262378e-02],\n",
       "       [ 2.00990891e+00,  9.12882030e-01,  8.75930786e-02],\n",
       "       [ 2.01731920e+00,  9.09011126e-01,  9.00151581e-02],\n",
       "       [ 2.02472997e+00,  9.05140340e-01,  9.24371183e-02],\n",
       "       [ 2.03214049e+00,  9.01269376e-01,  9.48591977e-02],\n",
       "       [ 2.03955102e+00,  8.97398591e-01,  9.72811878e-02],\n",
       "       [ 2.04695225e+00,  8.93532932e-01,  9.97046381e-02],\n",
       "       [ 2.05435157e+00,  8.89668047e-01,  1.02128357e-01],\n",
       "       [ 2.06175137e+00,  8.85803103e-01,  1.04552150e-01],\n",
       "       [ 2.06915069e+00,  8.81938338e-01,  1.06975868e-01],\n",
       "       [ 2.07655001e+00,  8.78073454e-01,  1.09399617e-01],\n",
       "       [ 2.08385277e+00,  8.74252617e-01,  1.11783445e-01],\n",
       "       [ 2.09080219e+00,  8.70614409e-01,  1.14040419e-01],\n",
       "       [ 2.09765148e+00,  8.67075384e-01,  1.16271526e-01],\n",
       "       [ 2.10448265e+00,  8.63604367e-01,  1.18476495e-01],\n",
       "       [ 2.11118937e+00,  8.60263884e-01,  1.20668367e-01],\n",
       "       [ 2.11740351e+00,  8.57492805e-01,  1.22728050e-01],\n",
       "       [ 2.12361717e+00,  8.54721665e-01,  1.24787688e-01],\n",
       "       [ 2.12983108e+00,  8.51950705e-01,  1.26847267e-01],\n",
       "       [ 2.13604546e+00,  8.49179566e-01,  1.28906935e-01],\n",
       "       [ 2.14223552e+00,  8.46500456e-01,  1.30996704e-01],\n",
       "       [ 2.14838791e+00,  8.43967974e-01,  1.33134335e-01],\n",
       "       [ 2.15453982e+00,  8.41435730e-01,  1.35271877e-01],\n",
       "       [ 2.16064644e+00,  8.38923872e-01,  1.37308508e-01],\n",
       "       [ 2.16673803e+00,  8.36425185e-01,  1.39298528e-01],\n",
       "       [ 2.17284727e+00,  8.33933771e-01,  1.41297251e-01],\n",
       "       [ 2.17895651e+00,  8.31442475e-01,  1.43295974e-01],\n",
       "       [ 2.18507242e+00,  8.28968942e-01,  1.45284444e-01],\n",
       "       [ 2.19118881e+00,  8.26496899e-01,  1.47272021e-01],\n",
       "       [ 2.19730496e+00,  8.24024975e-01,  1.49259627e-01],\n",
       "       [ 2.20342135e+00,  8.21552932e-01,  1.51247263e-01],\n",
       "       [ 2.20953751e+00,  8.19081008e-01,  1.53234810e-01],\n",
       "       [ 2.21563196e+00,  8.16626847e-01,  1.55214220e-01],\n",
       "       [ 2.22158003e+00,  8.14201474e-01,  1.57073945e-01],\n",
       "       [ 2.22730327e+00,  8.12041342e-01,  1.58757836e-01],\n",
       "       [ 2.23265886e+00,  8.10142517e-01,  1.60251230e-01],\n",
       "       [ 2.23800898e+00,  8.08250904e-01,  1.61734045e-01],\n",
       "       [ 2.24335861e+00,  8.06359470e-01,  1.63216859e-01],\n",
       "       [ 2.24870872e+00,  8.04467797e-01,  1.64699584e-01],\n",
       "       [ 2.25405884e+00,  8.02576363e-01,  1.66182369e-01],\n",
       "       [ 2.25926876e+00,  8.00814450e-01,  1.67622298e-01],\n",
       "       [ 2.26441002e+00,  7.99115300e-01,  1.69041246e-01],\n",
       "       [ 2.26944852e+00,  7.97476888e-01,  1.70443028e-01],\n",
       "       [ 2.27437735e+00,  7.95903504e-01,  1.71826422e-01],\n",
       "       [ 2.27930641e+00,  7.94329941e-01,  1.73209667e-01],\n",
       "       [ 2.28423572e+00,  7.92756379e-01,  1.74593180e-01],\n",
       "       [ 2.28918314e+00,  7.91184604e-01,  1.75982982e-01],\n",
       "       [ 2.29433203e+00,  7.89631963e-01,  1.77443177e-01],\n",
       "       [ 2.29948092e+00,  7.88079023e-01,  1.78903311e-01],\n",
       "       [ 2.30463600e+00,  7.86520123e-01,  1.80349082e-01],\n",
       "       [ 2.30979824e+00,  7.84953892e-01,  1.81778014e-01],\n",
       "       [ 2.31496048e+00,  7.83387721e-01,  1.83206946e-01]], dtype=float32)"
      ]
     },
     "execution_count": 112,
     "metadata": {},
     "output_type": "execute_result"
    }
   ],
   "source": [
    "saved_trajectory"
   ]
  },
  {
   "cell_type": "code",
   "execution_count": 32,
   "metadata": {},
   "outputs": [],
   "source": [
    "pr.stop()  # Stop the simulation\n"
   ]
  },
  {
   "cell_type": "code",
   "execution_count": 33,
   "metadata": {},
   "outputs": [],
   "source": [
    "pr.start()"
   ]
  },
  {
   "cell_type": "code",
   "execution_count": 34,
   "metadata": {},
   "outputs": [],
   "source": [
    "extra_reward = np.load('extrapolation_reward2.npy')\n",
    "#extra_reward = reward_array_list #uncomment to use training result\n",
    "for i in range(10):\n",
    "    for j in range(100):\n",
    "        extra_reward[i,j]=extra_reward[i,j]*(-1)\n",
    "        \n",
    "mean_extrapolation = np.mean(extra_reward,axis=0)\n",
    "std_extrapolation = np.std(extra_reward,axis=0)"
   ]
  },
  {
   "cell_type": "code",
   "execution_count": 35,
   "metadata": {},
   "outputs": [],
   "source": [
    "inter_reward = np.load('intrapolation_reward2.npy')\n",
    "mean_interpolation = np.mean(inter_reward,axis=0)\n",
    "std_interpolation = np.std(inter_reward,axis=0)\n"
   ]
  },
  {
   "cell_type": "code",
   "execution_count": 36,
   "metadata": {},
   "outputs": [
    {
     "data": {
      "text/plain": [
       "Text(0, 0.5, 'Reward (in m)')"
      ]
     },
     "execution_count": 36,
     "metadata": {},
     "output_type": "execute_result"
    },
    {
     "data": {
      "image/png": "[encoded data removed]",
      "text/plain": [
       "<Figure size 432x288 with 1 Axes>"
      ]
     },
     "metadata": {
      "needs_background": "light"
     },
     "output_type": "display_data"
    }
   ],
   "source": [
    "\n",
    "plt.errorbar(range(100), mean_interpolation, yerr=std_interpolation, color = 'b' , label = 'interpolation')\n",
    "plt.errorbar(range(100), mean_extrapolation, yerr=std_extrapolation, color = 'r' , label = 'extrapolation')\n",
    "\n",
    "plt.legend()\n",
    "plt.xlabel('Iteration', fontsize=12)\n",
    "plt.ylabel('Reward (in m)', fontsize=12)"
   ]
  },
  {
   "cell_type": "code",
   "execution_count": 237,
   "metadata": {},
   "outputs": [],
   "source": [
    "pr.shutdown()   # Close the application"
   ]
  },
  {
   "cell_type": "code",
   "execution_count": null,
   "metadata": {},
   "outputs": [],
   "source": []
  }
 ],
 "metadata": {
  "kernelspec": {
   "display_name": "Python 3",
   "language": "python",
   "name": "python3"
  },
  "language_info": {
   "codemirror_mode": {
    "name": "ipython",
    "version": 3
   },
   "file_extension": ".py",
   "mimetype": "text/x-python",
   "name": "python",
   "nbconvert_exporter": "python",
   "pygments_lexer": "ipython3",
   "version": "3.7.6"
  }
 },
 "nbformat": 4,
 "nbformat_minor": 4
}
